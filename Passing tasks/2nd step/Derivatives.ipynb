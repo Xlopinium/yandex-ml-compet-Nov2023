{
  "nbformat": 4,
  "nbformat_minor": 0,
  "metadata": {
    "colab": {
      "provenance": []
    },
    "kernelspec": {
      "name": "python3",
      "display_name": "Python 3"
    },
    "language_info": {
      "name": "python"
    }
  },
  "cells": [
    {
      "cell_type": "code",
      "execution_count": 1,
      "metadata": {
        "id": "hQ8z0Mh4tgZI"
      },
      "outputs": [],
      "source": [
        "import numpy as np\n",
        "\n",
        "class LossAndDerivatives:\n",
        "\n",
        "    @staticmethod\n",
        "    def mse(X, Y, w):\n",
        "        return np.mean((X.dot(w) - Y)**2)\n",
        "\n",
        "    def mae(X, Y, w):\n",
        "        return np.mean(np.abs(X.dot(w) - Y))\n",
        "\n",
        "    @staticmethod\n",
        "    def l2_reg(w):\n",
        "        return np.sum(w ** 2)\n",
        "\n",
        "    @staticmethod\n",
        "    def l1_reg(w):\n",
        "        return np.sum(np.abs(w))\n",
        "\n",
        "    @staticmethod\n",
        "    def mse_derivative(X, Y, w):\n",
        "        n = X.shape[0]\n",
        "        return 2/n * X.T.dot(X.dot(w) - Y)\n",
        "\n",
        "    @staticmethod\n",
        "    def mae_derivative(X, Y, w):\n",
        "        n = X.shape[0]\n",
        "        return 1/n * X.T.dot(np.sign(X.dot(w) - Y))\n",
        "\n",
        "    @staticmethod\n",
        "    def l2_reg_derivative(w):\n",
        "        return 2 * w\n",
        "\n",
        "    @staticmethod\n",
        "    def l1_reg_derivative(w):\n",
        "        return np.sign(w)\n",
        "\n",
        "    @staticmethod\n",
        "    def no_reg_derivative(w):\n",
        "        return np.zeros_like(w)"
      ]
    }
  ]
}