{
  "nbformat": 4,
  "nbformat_minor": 0,
  "metadata": {
    "colab": {
      "provenance": []
    },
    "kernelspec": {
      "name": "python3",
      "display_name": "Python 3"
    },
    "language_info": {
      "name": "python"
    }
  },
  "cells": [
    {
      "cell_type": "code",
      "execution_count": null,
      "metadata": {
        "id": "IE42fpeotur4"
      },
      "outputs": [],
      "source": [
        "import numpy as np\n",
        "\n",
        "def get_dominant_eigenvalue_and_eigenvector(data, num_steps):\n",
        "    # Инициализация случайного начального вектора\n",
        "    vec = np.random.rand(data.shape[1])\n",
        "    vec = vec / np.linalg.norm(vec)  # Нормализация\n",
        "\n",
        "    for _ in range(num_steps):\n",
        "        vec = np.dot(data, vec)  # Умножаем на матрицу\n",
        "        vec = vec / np.linalg.norm(vec)  # Нормализация\n",
        "\n",
        "    # Вычисление собственного значения по Rayleigh Quotient\n",
        "    eigenvalue = np.dot(vec, np.dot(data, vec)) / np.dot(vec, vec)\n",
        "\n",
        "    return eigenvalue, vec\n",
        "\n",
        "## Тестирование на синтетических данных\n",
        "#data = np.array([[1, 0], [0, 1]])\n",
        "#eigenvalue, eigenvector = get_dominant_eigenvalue_and_eigenvector(data, 100)\n",
        "#print(\"Eigenvalue:\", eigenvalue)\n",
        "##print(\"Eigenvector:\", eigenvector)"
      ]
    }
  ]
}