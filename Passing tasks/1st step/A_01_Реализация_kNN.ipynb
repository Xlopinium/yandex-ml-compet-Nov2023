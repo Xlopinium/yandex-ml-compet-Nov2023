{
  "nbformat": 4,
  "nbformat_minor": 0,
  "metadata": {
    "colab": {
      "provenance": []
    },
    "kernelspec": {
      "name": "python3",
      "display_name": "Python 3"
    },
    "language_info": {
      "name": "python"
    }
  },
  "cells": [
    {
      "cell_type": "code",
      "execution_count": null,
      "metadata": {
        "id": "zYct2dB_sWWL"
      },
      "outputs": [],
      "source": [
        "import numpy as np\n",
        "from scipy import stats\n",
        "\"\"\"\n",
        "Credits: the original code belongs to Stanford CS231n course assignment1. Source link: http://cs231n.github.io/assignments2019/assignment1/\n",
        "\"\"\"\n",
        "\n",
        "class KNearestNeighbor:\n",
        "    \"\"\" a kNN classifier with L2 distance \"\"\"\n",
        "\n",
        "    def __init__(self):\n",
        "        pass\n",
        "\n",
        "    def fit(self, X, y):\n",
        "        self.X_train = X\n",
        "        self.y_train = y\n",
        "\n",
        "    def predict(self, X, k=1, num_loops=0):\n",
        "        if num_loops == 0:\n",
        "            dists = self.compute_distances_no_loops(X)\n",
        "        elif num_loops == 1:\n",
        "            dists = self.compute_distances_one_loop(X)\n",
        "        elif num_loops == 2:\n",
        "            dists = self.compute_distances_two_loops(X)\n",
        "        else:\n",
        "            raise ValueError('Invalid value %d for num_loops' % num_loops)\n",
        "\n",
        "        return self.predict_labels(dists, k=k)\n",
        "\n",
        "    def compute_distances_two_loops(self, X):\n",
        "        num_test = X.shape[0]\n",
        "        num_train = self.X_train.shape[0]\n",
        "        dists = np.zeros((num_test, num_train))\n",
        "        for i in range(num_test):\n",
        "            for j in range(num_train):\n",
        "                dists[i, j] = np.sqrt(np.sum(np.square(self.X_train[j,:] - X[i,:])))\n",
        "        return dists\n",
        "\n",
        "    def compute_distances_one_loop(self, X):\n",
        "        num_test = X.shape[0]\n",
        "        num_train = self.X_train.shape[0]\n",
        "        dists = np.zeros((num_test, num_train))\n",
        "        for i in range(num_test):\n",
        "            dists[i, :] = np.sqrt(np.sum(np.square(self.X_train - X[i,:]), axis=1))\n",
        "        return dists\n",
        "\n",
        "    def compute_distances_no_loops(self, X):\n",
        "        num_test = X.shape[0]\n",
        "        num_train = self.X_train.shape[0]\n",
        "        # (X - Y)^2 = X^2 - 2XY + Y^2\n",
        "        test_sum = np.sum(np.square(X), axis=1)\n",
        "        train_sum = np.sum(np.square(self.X_train), axis=1)\n",
        "        inner_product = np.dot(X, self.X_train.T)\n",
        "        # Преобразование test_sum и train_sum для использования broadcasting\n",
        "        dists = np.sqrt(-2 * inner_product + test_sum.reshape(-1, 1) + train_sum)\n",
        "        return dists\n",
        "\n",
        "    def predict_labels(self, dists, k=1):\n",
        "        num_test = dists.shape[0]\n",
        "        y_pred = np.zeros(num_test)\n",
        "        for i in range(num_test):\n",
        "            closest_y = []\n",
        "            labels = self.y_train[np.argsort(dists[i, :])[:k]]\n",
        "            closest_y.extend(labels)\n",
        "            y_pred[i] = stats.mode(closest_y)[0]\n",
        "        return y_pred"
      ]
    }
  ]
}