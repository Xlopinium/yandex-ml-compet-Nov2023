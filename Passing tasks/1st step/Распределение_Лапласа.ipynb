{
  "nbformat": 4,
  "nbformat_minor": 0,
  "metadata": {
    "colab": {
      "provenance": []
    },
    "kernelspec": {
      "name": "python3",
      "display_name": "Python 3"
    },
    "language_info": {
      "name": "python"
    }
  },
  "cells": [
    {
      "cell_type": "code",
      "execution_count": null,
      "metadata": {
        "id": "w32miS1FtIuC"
      },
      "outputs": [],
      "source": [
        "import numpy as np\n",
        "\n",
        "class LaplaceDistribution:\n",
        "    @staticmethod\n",
        "    def mean_abs_deviation_from_median(x: np.ndarray):\n",
        "        # Вычисление медианы для каждого столбца\n",
        "        median = np.median(x, axis=0)\n",
        "        # Среднее абсолютных отклонений от медианы\n",
        "        mad = np.mean(np.abs(x - median), axis=0)\n",
        "        return mad\n",
        "\n",
        "    def __init__(self, features):\n",
        "        # Медиана является параметром 'loc'\n",
        "        self.loc = np.median(features, axis=0)\n",
        "        # Среднее абсолютное отклонение от медианы является параметром 'scale'\n",
        "        self.scale = self.mean_abs_deviation_from_median(features)\n",
        "\n",
        "\n",
        "    def logpdf(self, values):\n",
        "        # Реализация логарифма плотности вероятности\n",
        "        return - np.log(2 * self.scale) - np.abs(values - self.loc) / self.scale\n",
        "\n",
        "\n",
        "    def pdf(self, values):\n",
        "        # Возвращает плотность вероятности\n",
        "        return np.exp(self.logpdf(values))"
      ]
    }
  ]
}